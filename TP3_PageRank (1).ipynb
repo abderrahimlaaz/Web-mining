{
  "nbformat": 4,
  "nbformat_minor": 0,
  "metadata": {
    "kernelspec": {
      "display_name": "Python 3",
      "language": "python",
      "name": "python3"
    },
    "language_info": {
      "codemirror_mode": {
        "name": "ipython",
        "version": 3
      },
      "file_extension": ".py",
      "mimetype": "text/x-python",
      "name": "python",
      "nbconvert_exporter": "python",
      "pygments_lexer": "ipython3",
      "version": "3.7.9"
    },
    "colab": {
      "name": "TP3_PageRank.ipynb",
      "provenance": []
    }
  },
  "cells": [
    {
      "cell_type": "code",
      "metadata": {
        "id": "7wxJqGKcly5b"
      },
      "source": [
        "import numpy as np"
      ],
      "execution_count": null,
      "outputs": []
    },
    {
      "cell_type": "markdown",
      "metadata": {
        "id": "H245htYmly5m"
      },
      "source": [
        "# The Graph to manipulate"
      ]
    },
    {
      "cell_type": "markdown",
      "metadata": {
        "id": "1MSIElITly5n"
      },
      "source": [
        "![image-2.png](attachment:image-2.png)"
      ]
    },
    {
      "cell_type": "markdown",
      "metadata": {
        "id": "tGrnDEZgly5o"
      },
      "source": [
        "# Graph representation"
      ]
    },
    {
      "cell_type": "code",
      "metadata": {
        "id": "Lzvvt6mFly5o"
      },
      "source": [
        "Graph = {\n",
        "    \"A\" : [] ,\n",
        "    \"B\" : [\"C\"] ,\n",
        "    \"C\" : [\"B\"],\n",
        "    \"D\" : [\"A\", \"B\"],\n",
        "    \"E\" : [\"B\", \"D\", \"F\"],\n",
        "    \"F\" : [\"B\", \"E\"],\n",
        "    \"G\" : [\"B\", \"E\"],\n",
        "    \"H\" : [\"B\", \"E\"],\n",
        "    \"I\" : [\"B\", \"E\"],\n",
        "    \"L\" : [\"E\"],\n",
        "    \"M\" : [\"E\"],\n",
        "}"
      ],
      "execution_count": null,
      "outputs": []
    },
    {
      "cell_type": "markdown",
      "metadata": {
        "id": "gCkFBem_ly5p"
      },
      "source": [
        "# Function to get Agencency Matrix"
      ]
    },
    {
      "cell_type": "code",
      "metadata": {
        "id": "riugiCkoly5q"
      },
      "source": [
        "def adjacencyMatrix(g):\n",
        "    \n",
        "    keys=sorted(g.keys())\n",
        "    size=len(keys)\n",
        "    Matrix = [ [0]*size for i in range(size) ]\n",
        "    for i,j in [(keys.index(i), keys.index(j)) for i, row in g.items() for j in row]:\n",
        "        Matrix[i][j] = 1\n",
        "    return Matrix"
      ],
      "execution_count": null,
      "outputs": []
    },
    {
      "cell_type": "code",
      "metadata": {
        "id": "EVWRcggYly5r"
      },
      "source": [
        "adjac_Matrix = adjacencyMatrix(Graph)"
      ],
      "execution_count": null,
      "outputs": []
    },
    {
      "cell_type": "markdown",
      "metadata": {
        "id": "ZtwNwHNDly5r"
      },
      "source": [
        "# PageRank Algorithm"
      ]
    },
    {
      "cell_type": "markdown",
      "metadata": {
        "id": "7GSU8eQZly5s"
      },
      "source": [
        "# 1 ) Firstly we calculate probability matrix P"
      ]
    },
    {
      "cell_type": "markdown",
      "metadata": {
        "id": "3mF_EnF9ly5s"
      },
      "source": [
        "![image.png](attachment:image.png)"
      ]
    },
    {
      "cell_type": "markdown",
      "metadata": {
        "id": "tzEgb_o9ly5t"
      },
      "source": [
        "# 2) then we end by calculating the R vector of the  Rank page scores"
      ]
    },
    {
      "cell_type": "markdown",
      "metadata": {
        "id": "lOjImQ-9ly5t"
      },
      "source": [
        "![image.png](attachment:image.png)"
      ]
    },
    {
      "cell_type": "code",
      "metadata": {
        "id": "G2LmgZ48ly5u"
      },
      "source": [
        "def PageRank_Algo(A, _lambda, epsilon):\n",
        "    \n",
        "    #AdjacencyMatrix A\n",
        "    A = np.array(A, dtype=np.float64)\n",
        "    \n",
        "    #ProbabilityMatrix P\n",
        "    P = np.zeros_like(A, dtype=np.float64)\n",
        "    \n",
        "    #N is the total number of nodes in the web graph\n",
        "    N = P.shape[0]\n",
        "    \n",
        "    #Calculate probability matrix P\n",
        "    for i in range(N):\n",
        "        Sigma_Aij = np.count_nonzero(A[i])\n",
        "        for j in range(N):\n",
        "            if Sigma_Aij != 0:\n",
        "                P[i][j] = _lambda*(A[i][j]/Sigma_Aij) + (1 - _lambda)*(1/N)\n",
        "            else:\n",
        "                P[i][j] = 1/N\n",
        "                \n",
        "    #Calculate the Vector R\n",
        "    R_zero = np.array([1/ N for i in range(N)],dtype=np.float64)\n",
        "    \n",
        "    while True:\n",
        "        R_new = np.dot(R_zero, P)\n",
        "        if np.allclose(R_new, R_zero, rtol=epsilon) == True:\n",
        "            return R_new\n",
        "        R_zero = R_new \n",
        "        "
      ],
      "execution_count": null,
      "outputs": []
    },
    {
      "cell_type": "markdown",
      "metadata": {
        "id": "geitATjgly5v"
      },
      "source": [
        "# PageRank scores"
      ]
    },
    {
      "cell_type": "code",
      "metadata": {
        "id": "IlfjuZ0lly5v"
      },
      "source": [
        "Scores=PageRank_Algo(adjac_Matrix, 0.85, 0.0001)\n",
        "graphKeys=list(Graph.keys())"
      ],
      "execution_count": null,
      "outputs": []
    },
    {
      "cell_type": "code",
      "metadata": {
        "id": "8p6eczr_ly5w",
        "outputId": "e3735731-3ece-4b59-92d6-3d17e1790e0d"
      },
      "source": [
        "i=0\n",
        "for s in Scores:\n",
        "    print(f\"Node :{graphKeys[i]} - Score :{round(s*100,1)} %\")\n",
        "    i+=1"
      ],
      "execution_count": null,
      "outputs": [
        {
          "output_type": "stream",
          "text": [
            "Node :A - Score :3.3 %\n",
            "Node :B - Score :38.4 %\n",
            "Node :C - Score :34.3 %\n",
            "Node :D - Score :3.9 %\n",
            "Node :E - Score :8.1 %\n",
            "Node :F - Score :3.9 %\n",
            "Node :G - Score :1.6 %\n",
            "Node :H - Score :1.6 %\n",
            "Node :I - Score :1.6 %\n",
            "Node :L - Score :1.6 %\n",
            "Node :M - Score :1.6 %\n"
          ],
          "name": "stdout"
        }
      ]
    },
    {
      "cell_type": "markdown",
      "metadata": {
        "id": "IQnNBUgFly5x"
      },
      "source": [
        "# Our scores are similar to those in the graph"
      ]
    },
    {
      "cell_type": "markdown",
      "metadata": {
        "id": "NyCFoOWlly5y"
      },
      "source": [
        "![image.png](attachment:image.png)"
      ]
    }
  ]
}