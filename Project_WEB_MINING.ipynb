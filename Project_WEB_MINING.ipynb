{
  "nbformat": 4,
  "nbformat_minor": 0,
  "metadata": {
    "colab": {
      "name": "Project WEB MINING.ipynb",
      "provenance": [],
      "collapsed_sections": [
        "Q6dVNK8WGxmT",
        "8H4PSDUfHFx6",
        "9fXQYqKbHWIV",
        "1kkJnoL8Hp_J",
        "Quy2CBO7H1pC",
        "S3tK7wz-IkvV"
      ]
    },
    "kernelspec": {
      "name": "python3",
      "display_name": "Python 3"
    }
  },
  "cells": [
    {
      "cell_type": "markdown",
      "metadata": {
        "id": "Q6dVNK8WGxmT"
      },
      "source": [
        "## Import necessary modules"
      ]
    },
    {
      "cell_type": "code",
      "metadata": {
        "id": "apB9dvUsgYi-",
        "colab": {
          "base_uri": "https://localhost:8080/"
        },
        "outputId": "25a611ff-e144-41e7-8283-f65a287d0b5f"
      },
      "source": [
        "from gensim.parsing.preprocessing import remove_stopwords\n",
        "from gensim.utils import simple_preprocess\n",
        "from gensim.utils import simple_tokenize\n",
        "from gensim.parsing.preprocessing import strip_punctuation\n",
        "from gensim.utils import tokenize\n",
        "from gensim.parsing.preprocessing import preprocess_string\n",
        "from gensim.models import Word2Vec\n",
        "from gensim.parsing.preprocessing import strip_non_alphanum\n",
        "from gensim.parsing.preprocessing import strip_multiple_whitespaces\n",
        "from gensim.parsing.preprocessing import stem_text\n",
        "import pandas as pd\n",
        "import nltk\n",
        "nltk.download('punkt')\n",
        "nltk.download('stopwords')\n",
        "from nltk.tokenize import word_tokenize\n",
        "import string\n",
        "from nltk.corpus import stopwords\n",
        "from nltk.stem.porter import PorterStemmer\n",
        "import numpy as np\n",
        "from sklearn.metrics.pairwise import cosine_similarity"
      ],
      "execution_count": null,
      "outputs": [
        {
          "output_type": "stream",
          "text": [
            "[nltk_data] Downloading package punkt to /root/nltk_data...\n",
            "[nltk_data]   Package punkt is already up-to-date!\n",
            "[nltk_data] Downloading package stopwords to /root/nltk_data...\n",
            "[nltk_data]   Package stopwords is already up-to-date!\n"
          ],
          "name": "stdout"
        }
      ]
    },
    {
      "cell_type": "markdown",
      "metadata": {
        "id": "8H4PSDUfHFx6"
      },
      "source": [
        "## Convert Raw data to structured Data"
      ]
    },
    {
      "cell_type": "markdown",
      "metadata": {
        "id": "9fXQYqKbHWIV"
      },
      "source": [
        "### 1. Corpus"
      ]
    },
    {
      "cell_type": "code",
      "metadata": {
        "id": "CV9WnKlLgXSR"
      },
      "source": [
        "path = \"/content/drive/MyDrive/Google Colab/cran/cran.all.1400\"\n",
        "file = open(\"/content/drive/MyDrive/Google Colab/cran/cran.all.1400\", \"r\")\n",
        "corpus = file.read()\n",
        "file.close()\n",
        "Documents = corpus.split(\".I\")\n",
        "Documents = Documents[1:]\n",
        "docs = []\n",
        "for i in Documents:\n",
        "    split = i.split(sep=\".T\", maxsplit=1)\n",
        "    item = split[0]\n",
        "    split = split[1].split(sep = \".A\",maxsplit=1)\n",
        "    title = split[0]\n",
        "    split = split[1].split(sep = \".B\",maxsplit=1)\n",
        "    author = split[0]\n",
        "    split = split[1].split(sep = \".W\",maxsplit=1)\n",
        "    bibliography = split[0]\n",
        "    abstract = split[1]\n",
        "    docs.append([item, title, author, bibliography, abstract])"
      ],
      "execution_count": null,
      "outputs": []
    },
    {
      "cell_type": "code",
      "metadata": {
        "id": "U1Qw2YdIxoLc"
      },
      "source": [
        "columns = [\"item\", \"title\", \"author\", \"bibliography\", \"abstract\"]\n",
        "df_documents = pd.DataFrame(data = docs, columns = columns)"
      ],
      "execution_count": null,
      "outputs": []
    },
    {
      "cell_type": "markdown",
      "metadata": {
        "id": "1kkJnoL8Hp_J"
      },
      "source": [
        "### 2. Queries"
      ]
    },
    {
      "cell_type": "code",
      "metadata": {
        "id": "V_jxQ6z8jNOJ"
      },
      "source": [
        "PATH = \"/content/drive/MyDrive/Google Colab/cran/cran.qry\"\n",
        "file = open(PATH, \"r\")\n",
        "corpus = file.read()"
      ],
      "execution_count": null,
      "outputs": []
    },
    {
      "cell_type": "code",
      "metadata": {
        "id": "M0-sta0_joJC"
      },
      "source": [
        "Queries = corpus.split(\".I \")\n",
        "Queries = Queries[1:]\n",
        "queries = []\n",
        "for i in Queries:\n",
        "    split = i.split(sep=\".W\", maxsplit=1)\n",
        "    query_number = split[0]\n",
        "    query = split[1]\n",
        "    queries.append([query_number, query])"
      ],
      "execution_count": null,
      "outputs": []
    },
    {
      "cell_type": "code",
      "metadata": {
        "id": "Zd9GD_ktjO5C"
      },
      "source": [
        "columns = [\"item number\", \"query\"]\n",
        "df_queries = pd.DataFrame(data = queries, columns = columns)"
      ],
      "execution_count": null,
      "outputs": []
    },
    {
      "cell_type": "code",
      "metadata": {
        "id": "AtUNL2vVMu5y",
        "colab": {
          "base_uri": "https://localhost:8080/"
        },
        "outputId": "f69773f8-43b5-4536-de41-099375c3777b"
      },
      "source": [
        "df_queries.head(10)"
      ],
      "execution_count": null,
      "outputs": [
        {
          "output_type": "execute_result",
          "data": {
            "text/html": [
              "<div>\n",
              "<style scoped>\n",
              "    .dataframe tbody tr th:only-of-type {\n",
              "        vertical-align: middle;\n",
              "    }\n",
              "\n",
              "    .dataframe tbody tr th {\n",
              "        vertical-align: top;\n",
              "    }\n",
              "\n",
              "    .dataframe thead th {\n",
              "        text-align: right;\n",
              "    }\n",
              "</style>\n",
              "<table border=\"1\" class=\"dataframe\">\n",
              "  <thead>\n",
              "    <tr style=\"text-align: right;\">\n",
              "      <th></th>\n",
              "      <th>item number</th>\n",
              "      <th>query</th>\n",
              "    </tr>\n",
              "  </thead>\n",
              "  <tbody>\n",
              "    <tr>\n",
              "      <th>0</th>\n",
              "      <td>001\\n</td>\n",
              "      <td>\\nwhat similarity laws must be obeyed when con...</td>\n",
              "    </tr>\n",
              "    <tr>\n",
              "      <th>1</th>\n",
              "      <td>002\\n</td>\n",
              "      <td>\\nwhat are the structural and aeroelastic prob...</td>\n",
              "    </tr>\n",
              "    <tr>\n",
              "      <th>2</th>\n",
              "      <td>004\\n</td>\n",
              "      <td>\\nwhat problems of heat conduction in composit...</td>\n",
              "    </tr>\n",
              "    <tr>\n",
              "      <th>3</th>\n",
              "      <td>008\\n</td>\n",
              "      <td>\\ncan a criterion be developed to show empiric...</td>\n",
              "    </tr>\n",
              "    <tr>\n",
              "      <th>4</th>\n",
              "      <td>009\\n</td>\n",
              "      <td>\\nwhat chemical kinetic system is applicable t...</td>\n",
              "    </tr>\n",
              "    <tr>\n",
              "      <th>5</th>\n",
              "      <td>010\\n</td>\n",
              "      <td>\\nwhat theoretical and experimental guides do ...</td>\n",
              "    </tr>\n",
              "    <tr>\n",
              "      <th>6</th>\n",
              "      <td>012\\n</td>\n",
              "      <td>\\nis it possible to relate the available press...</td>\n",
              "    </tr>\n",
              "    <tr>\n",
              "      <th>7</th>\n",
              "      <td>013\\n</td>\n",
              "      <td>\\nwhat methods -dash exact or approximate -das...</td>\n",
              "    </tr>\n",
              "    <tr>\n",
              "      <th>8</th>\n",
              "      <td>015\\n</td>\n",
              "      <td>\\npapers on internal /slip flow/ heat transfer...</td>\n",
              "    </tr>\n",
              "    <tr>\n",
              "      <th>9</th>\n",
              "      <td>018\\n</td>\n",
              "      <td>\\nare real-gas transport properties for air av...</td>\n",
              "    </tr>\n",
              "  </tbody>\n",
              "</table>\n",
              "</div>"
            ],
            "text/plain": [
              "  item number                                              query\n",
              "0       001\\n  \\nwhat similarity laws must be obeyed when con...\n",
              "1       002\\n  \\nwhat are the structural and aeroelastic prob...\n",
              "2       004\\n  \\nwhat problems of heat conduction in composit...\n",
              "3       008\\n  \\ncan a criterion be developed to show empiric...\n",
              "4       009\\n  \\nwhat chemical kinetic system is applicable t...\n",
              "5       010\\n  \\nwhat theoretical and experimental guides do ...\n",
              "6       012\\n  \\nis it possible to relate the available press...\n",
              "7       013\\n  \\nwhat methods -dash exact or approximate -das...\n",
              "8       015\\n  \\npapers on internal /slip flow/ heat transfer...\n",
              "9       018\\n  \\nare real-gas transport properties for air av..."
            ]
          },
          "metadata": {
            "tags": []
          },
          "execution_count": 9
        }
      ]
    },
    {
      "cell_type": "markdown",
      "metadata": {
        "id": "Quy2CBO7H1pC"
      },
      "source": [
        "### 3.relevance judgements"
      ]
    },
    {
      "cell_type": "code",
      "metadata": {
        "id": "Ys0YHnSJydxI",
        "colab": {
          "base_uri": "https://localhost:8080/"
        },
        "outputId": "2143789d-fa42-4930-981e-e477941a4223"
      },
      "source": [
        "PATH = \"/content/drive/MyDrive/Google Colab/cran/cranqrel\"\n",
        "df_relevant = pd.read_csv(PATH, sep='\\s', usecols=[0, 1], names = [\"query_id\", \"doc_id\"])"
      ],
      "execution_count": null,
      "outputs": [
        {
          "output_type": "stream",
          "text": [
            "/usr/local/lib/python3.7/dist-packages/ipykernel_launcher.py:2: ParserWarning: Falling back to the 'python' engine because the 'c' engine does not support regex separators (separators > 1 char and different from '\\s+' are interpreted as regex); you can avoid this warning by specifying engine='python'.\n",
            "  \n"
          ],
          "name": "stderr"
        }
      ]
    },
    {
      "cell_type": "code",
      "metadata": {
        "colab": {
          "base_uri": "https://localhost:8080/"
        },
        "id": "qG9QeOo6Onsv",
        "outputId": "bbfc322c-9090-49e6-9d57-03b3158cd42d"
      },
      "source": [
        "df_relevant.head(10)"
      ],
      "execution_count": null,
      "outputs": [
        {
          "output_type": "execute_result",
          "data": {
            "text/html": [
              "<div>\n",
              "<style scoped>\n",
              "    .dataframe tbody tr th:only-of-type {\n",
              "        vertical-align: middle;\n",
              "    }\n",
              "\n",
              "    .dataframe tbody tr th {\n",
              "        vertical-align: top;\n",
              "    }\n",
              "\n",
              "    .dataframe thead th {\n",
              "        text-align: right;\n",
              "    }\n",
              "</style>\n",
              "<table border=\"1\" class=\"dataframe\">\n",
              "  <thead>\n",
              "    <tr style=\"text-align: right;\">\n",
              "      <th></th>\n",
              "      <th>query_id</th>\n",
              "      <th>doc_id</th>\n",
              "    </tr>\n",
              "  </thead>\n",
              "  <tbody>\n",
              "    <tr>\n",
              "      <th>0</th>\n",
              "      <td>1</td>\n",
              "      <td>184</td>\n",
              "    </tr>\n",
              "    <tr>\n",
              "      <th>1</th>\n",
              "      <td>1</td>\n",
              "      <td>29</td>\n",
              "    </tr>\n",
              "    <tr>\n",
              "      <th>2</th>\n",
              "      <td>1</td>\n",
              "      <td>31</td>\n",
              "    </tr>\n",
              "    <tr>\n",
              "      <th>3</th>\n",
              "      <td>1</td>\n",
              "      <td>12</td>\n",
              "    </tr>\n",
              "    <tr>\n",
              "      <th>4</th>\n",
              "      <td>1</td>\n",
              "      <td>51</td>\n",
              "    </tr>\n",
              "    <tr>\n",
              "      <th>5</th>\n",
              "      <td>1</td>\n",
              "      <td>102</td>\n",
              "    </tr>\n",
              "    <tr>\n",
              "      <th>6</th>\n",
              "      <td>1</td>\n",
              "      <td>13</td>\n",
              "    </tr>\n",
              "    <tr>\n",
              "      <th>7</th>\n",
              "      <td>1</td>\n",
              "      <td>14</td>\n",
              "    </tr>\n",
              "    <tr>\n",
              "      <th>8</th>\n",
              "      <td>1</td>\n",
              "      <td>15</td>\n",
              "    </tr>\n",
              "    <tr>\n",
              "      <th>9</th>\n",
              "      <td>1</td>\n",
              "      <td>57</td>\n",
              "    </tr>\n",
              "  </tbody>\n",
              "</table>\n",
              "</div>"
            ],
            "text/plain": [
              "   query_id  doc_id\n",
              "0         1     184\n",
              "1         1      29\n",
              "2         1      31\n",
              "3         1      12\n",
              "4         1      51\n",
              "5         1     102\n",
              "6         1      13\n",
              "7         1      14\n",
              "8         1      15\n",
              "9         1      57"
            ]
          },
          "metadata": {
            "tags": []
          },
          "execution_count": 11
        }
      ]
    },
    {
      "cell_type": "markdown",
      "metadata": {
        "id": "1heWB51fIKFU"
      },
      "source": [
        "## Preprocessing Data"
      ]
    },
    {
      "cell_type": "markdown",
      "metadata": {
        "id": "S3tK7wz-IkvV"
      },
      "source": [
        "#### 1. Corpus\n",
        "\n",
        "\n"
      ]
    },
    {
      "cell_type": "code",
      "metadata": {
        "id": "bw9h5LAYZBM-"
      },
      "source": [
        "docs = df_documents[\"abstract\"].tolist()"
      ],
      "execution_count": null,
      "outputs": []
    },
    {
      "cell_type": "code",
      "metadata": {
        "id": "PPPb_xzeKk5Z"
      },
      "source": [
        "porter = PorterStemmer()\n",
        "split_docs = []\n",
        "for i in range(0,len(docs)):\n",
        "  tokens = word_tokenize(docs[i])\n",
        "  table = str.maketrans('', '', string.punctuation)\n",
        "  stripped = [w.translate(table) for w in tokens]\n",
        "  words = [word for word in stripped if word.isalpha()]\n",
        "  stop_words = set(stopwords.words('english'))\n",
        "  words = [w for w in words if not w in stop_words]\n",
        "  stemmed = [porter.stem(word) for word in words]\n",
        "  split_docs.append(stemmed)"
      ],
      "execution_count": null,
      "outputs": []
    },
    {
      "cell_type": "markdown",
      "metadata": {
        "id": "fUJHjnt_IrO9"
      },
      "source": [
        "### 1. Queries"
      ]
    },
    {
      "cell_type": "code",
      "metadata": {
        "id": "KVfyFFafI7Qo"
      },
      "source": [
        "queries = df_queries[\"query\"].tolist()"
      ],
      "execution_count": null,
      "outputs": []
    },
    {
      "cell_type": "code",
      "metadata": {
        "id": "rDBco1egDLNt"
      },
      "source": [
        "porter = PorterStemmer()\n",
        "split_queries = []\n",
        "for i in range(0,len(queries)):\n",
        "  tokens = word_tokenize(queries[i])\n",
        "  table = str.maketrans('', '', string.punctuation)\n",
        "  stripped = [w.translate(table) for w in tokens]\n",
        "  words = [word for word in stripped if word.isalpha()]\n",
        "  stop_words = set(stopwords.words('english'))\n",
        "  words = [w for w in words if not w in stop_words]\n",
        "  stemmed = [porter.stem(word) for word in words]\n",
        "  split_queries.append(stemmed)"
      ],
      "execution_count": null,
      "outputs": []
    },
    {
      "cell_type": "markdown",
      "metadata": {
        "id": "91_QNueKJ8wu"
      },
      "source": [
        "##  Documents index"
      ]
    },
    {
      "cell_type": "markdown",
      "metadata": {
        "id": "2lfOUN2uLnpI"
      },
      "source": [
        "### 1. Word Embedding: Word2Vec"
      ]
    },
    {
      "cell_type": "code",
      "metadata": {
        "id": "PS05FvApaCs3"
      },
      "source": [
        "w2v_model = Word2Vec(split_docs, size=64, min_count=2,window=5, sg=1,workers=4)"
      ],
      "execution_count": null,
      "outputs": []
    },
    {
      "cell_type": "code",
      "metadata": {
        "colab": {
          "base_uri": "https://localhost:8080/"
        },
        "id": "j6p9j5QMaH2s",
        "outputId": "b02d803f-53db-4498-a645-b6a3b7ff41ee"
      },
      "source": [
        "print('Vocabulary size:', len(w2v_model.wv.vocab))"
      ],
      "execution_count": null,
      "outputs": [
        {
          "output_type": "stream",
          "text": [
            "Vocabulary size: 3339\n"
          ],
          "name": "stdout"
        }
      ]
    },
    {
      "cell_type": "markdown",
      "metadata": {
        "id": "ZOHiy349MDB0"
      },
      "source": [
        "### 2. Indexer"
      ]
    },
    {
      "cell_type": "code",
      "metadata": {
        "id": "Wjr_RtqIt3Ph"
      },
      "source": [
        "matrix_docs = np.zeros((1400,300))"
      ],
      "execution_count": null,
      "outputs": []
    },
    {
      "cell_type": "code",
      "metadata": {
        "id": "BvdF9OpuuPDI",
        "colab": {
          "base_uri": "https://localhost:8080/"
        },
        "outputId": "f493f50c-aea5-4ab0-dddd-ee273602a0c0"
      },
      "source": [
        "# for i in range(0,1400):\n",
        "#   j = 0\n",
        "#   for term in split_docs[i]:\n",
        "#     try:\n",
        "#       matrix_docs[i] = matrix_docs[i] + w2v_model.wv.get_vector(term)\n",
        "#     except KeyError:\n",
        "#       j = j + 1\n",
        "#   if len(split_docs[i]) -j  != 0:\n",
        "#     matrix_docs[i] = np.true_divide(matrix_docs[i], len(split_docs[i]) - j)"
      ],
      "execution_count": null,
      "outputs": [
        {
          "output_type": "stream",
          "text": [
            "/usr/local/lib/python3.7/dist-packages/ipykernel_launcher.py:5: DeprecationWarning: Call to deprecated `wv` (Attribute will be removed in 4.0.0, use self instead).\n",
            "  \"\"\"\n"
          ],
          "name": "stderr"
        }
      ]
    },
    {
      "cell_type": "code",
      "metadata": {
        "id": "1EbztfVc-qqW"
      },
      "source": [
        " embeddings = []\n",
        " for i in range(0,1400):\n",
        "  j = 0\n",
        "  for term in split_docs[i]:\n",
        "    if term in w2v_model.wv.vocab:\n",
        "      embeddings.append(w2v_model.wv.word_vec(term))\n",
        "    else:\n",
        "      embeddings.append(np.random.rand(300))\n",
        "  matrix_docs[i] = np.mean(embeddings, axis=0)"
      ],
      "execution_count": null,
      "outputs": []
    },
    {
      "cell_type": "markdown",
      "metadata": {
        "id": "-wNF1jEUM-Lr"
      },
      "source": [
        "## Use IR system"
      ]
    },
    {
      "cell_type": "markdown",
      "metadata": {
        "id": "MgXzoXvsNIlg"
      },
      "source": [
        "### 1. Fetch relevant documents of queries"
      ]
    },
    {
      "cell_type": "code",
      "metadata": {
        "id": "mWOERZ2BUyUy",
        "colab": {
          "base_uri": "https://localhost:8080/"
        },
        "outputId": "2e87b1ac-b97d-48c3-c967-88e58f4353aa"
      },
      "source": [
        "# matrix_query = np.zeros((225,300))\n",
        "# vector = np.zeros((300))\n",
        "# for i in range(0,225):\n",
        "#   j = 0\n",
        "#   for term in stemmed:\n",
        "#       try:\n",
        "#         vector = vector + w2v_model.wv.get_vector(term)\n",
        "#       except KeyError:\n",
        "#         j = j + 1\n",
        "#   vector = vector / (len(stemmed) - j)\n",
        "#   matrix_query[i] = vector"
      ],
      "execution_count": null,
      "outputs": [
        {
          "output_type": "stream",
          "text": [
            "/usr/local/lib/python3.7/dist-packages/ipykernel_launcher.py:7: DeprecationWarning: Call to deprecated `wv` (Attribute will be removed in 4.0.0, use self instead).\n",
            "  import sys\n"
          ],
          "name": "stderr"
        }
      ]
    },
    {
      "cell_type": "code",
      "metadata": {
        "id": "TWe-PJ4y8BNr"
      },
      "source": [
        "matrix_query = np.zeros((225,300))\n",
        "embeddings = []\n",
        "for i in range(0,225):\n",
        "  j = 0\n",
        "  for term in split_queries[i]:\n",
        "    if term in w2v_model.wv.vocab:\n",
        "      embeddings.append(w2v_model.wv.word_vec(term))\n",
        "    else:\n",
        "      embeddings.append(np.random.rand(300))\n",
        "  matrix_query[i] =  np.mean(embeddings, axis=0)"
      ],
      "execution_count": null,
      "outputs": []
    },
    {
      "cell_type": "code",
      "metadata": {
        "id": "-0So_okLxXVR",
        "colab": {
          "base_uri": "https://localhost:8080/"
        },
        "outputId": "77424c17-c132-404c-a655-a8446a381153"
      },
      "source": [
        "for i in range(0, 225):\n",
        "  similarity = cosine_similarity(matrix_docs, matrix_query[i].reshape(1,-1))\n",
        "  print(df_documents.loc[np.where(similarity >= 0.75)[0]])\n",
        "  break"
      ],
      "execution_count": null,
      "outputs": [
        {
          "output_type": "stream",
          "text": [
            "         item  ...                                           abstract\n",
            "192     193\\n  ...  \\na study of inviscid flow about air foils at ...\n",
            "747     748\\n  ...  \\nsubsonic aerodynamic flutter derivatives for...\n",
            "793     794\\n  ...  \\nexperiments with a tapered swept-back wing o...\n",
            "915     916\\n  ...  \\nthe flow around oscillating low aspect ratio...\n",
            "970     971\\n  ...  \\nsurface pressure distributions with a sonic ...\n",
            "1187   1188\\n  ...  \\nfactors affecting lift-drag ratios at mach n...\n",
            "1337   1338\\n  ...  \\ninvestigation to determine effects of center...\n",
            "1340   1341\\n  ...  \\ninvestigation of wing flutter at transonic s...\n",
            "1379   1380\\n  ...  \\nthe problem of obtaining high lift-drag rati...\n",
            "\n",
            "[9 rows x 5 columns]\n"
          ],
          "name": "stdout"
        }
      ]
    },
    {
      "cell_type": "code",
      "metadata": {
        "colab": {
          "base_uri": "https://localhost:8080/"
        },
        "id": "_ZpvNHVxARdY",
        "outputId": "fe5f103a-478c-4cdf-a447-9a6a41f6fc63"
      },
      "source": [
        "similarity.shape"
      ],
      "execution_count": null,
      "outputs": [
        {
          "output_type": "execute_result",
          "data": {
            "text/plain": [
              "(1400, 1)"
            ]
          },
          "metadata": {
            "tags": []
          },
          "execution_count": 188
        }
      ]
    },
    {
      "cell_type": "code",
      "metadata": {
        "colab": {
          "base_uri": "https://localhost:8080/",
          "height": 444
        },
        "id": "rKXiViP9dkg7",
        "outputId": "13008abe-45bd-4f16-c4e4-d26df7dd0fac"
      },
      "source": [
        "df_documents.loc[np.where(similarity >= 0.75)[0]]"
      ],
      "execution_count": null,
      "outputs": [
        {
          "output_type": "execute_result",
          "data": {
            "text/html": [
              "<div>\n",
              "<style scoped>\n",
              "    .dataframe tbody tr th:only-of-type {\n",
              "        vertical-align: middle;\n",
              "    }\n",
              "\n",
              "    .dataframe tbody tr th {\n",
              "        vertical-align: top;\n",
              "    }\n",
              "\n",
              "    .dataframe thead th {\n",
              "        text-align: right;\n",
              "    }\n",
              "</style>\n",
              "<table border=\"1\" class=\"dataframe\">\n",
              "  <thead>\n",
              "    <tr style=\"text-align: right;\">\n",
              "      <th></th>\n",
              "      <th>item</th>\n",
              "      <th>title</th>\n",
              "      <th>author</th>\n",
              "      <th>bibliography</th>\n",
              "      <th>abstract</th>\n",
              "    </tr>\n",
              "  </thead>\n",
              "  <tbody>\n",
              "    <tr>\n",
              "      <th>708</th>\n",
              "      <td>709\\n</td>\n",
              "      <td>\\nstatic longitudinal aerodynamic characterist...</td>\n",
              "      <td>\\nolstad, w.b.\\n</td>\n",
              "      <td>\\nnasa tm x-610, 1961 .\\n</td>\n",
              "      <td>\\nstatic longitudinal aerodynamic characterist...</td>\n",
              "    </tr>\n",
              "    <tr>\n",
              "      <th>712</th>\n",
              "      <td>713\\n</td>\n",
              "      <td>\\nstatic longitudinal stability characteristic...</td>\n",
              "      <td>\\nmayo, e.e.\\n</td>\n",
              "      <td>\\nnasa tm x-222. 1959 .\\n</td>\n",
              "      <td>\\nstatic longitudinal stability characteristic...</td>\n",
              "    </tr>\n",
              "    <tr>\n",
              "      <th>779</th>\n",
              "      <td>780\\n</td>\n",
              "      <td>\\nthe transonic characteristics of 38 cambered...</td>\n",
              "      <td>\\nnelson,w.h. and krumm,w.j.\\n</td>\n",
              "      <td>\\nnaca tn.3502, 1955.\\n</td>\n",
              "      <td>\\nthe transonic characteristics of 38 cambered...</td>\n",
              "    </tr>\n",
              "    <tr>\n",
              "      <th>1291</th>\n",
              "      <td>1292\\n</td>\n",
              "      <td>\\neffect of jet pluming on the static stabilit...</td>\n",
              "      <td>\\nhinson,w.f. and falanga,r.a.\\n</td>\n",
              "      <td>\\nnasa tn.d1352, 1962.\\n</td>\n",
              "      <td>\\neffect of jet pluming on the static stabilit...</td>\n",
              "    </tr>\n",
              "    <tr>\n",
              "      <th>1337</th>\n",
              "      <td>1338\\n</td>\n",
              "      <td>\\ninvestigation to determine effects of center...</td>\n",
              "      <td>\\njones, g.w. and unangst, j.r.\\n</td>\n",
              "      <td>\\nnaca rm l55k30, 1956 .\\n</td>\n",
              "      <td>\\ninvestigation to determine effects of center...</td>\n",
              "    </tr>\n",
              "    <tr>\n",
              "      <th>1340</th>\n",
              "      <td>1341\\n</td>\n",
              "      <td>\\ninvestigation of wing flutter at transonic s...</td>\n",
              "      <td>\\njones, g.w. and dubose, h.c.\\n</td>\n",
              "      <td>\\nnaca rml53g10a, 1953 .\\n</td>\n",
              "      <td>\\ninvestigation of wing flutter at transonic s...</td>\n",
              "    </tr>\n",
              "    <tr>\n",
              "      <th>1348</th>\n",
              "      <td>1349\\n</td>\n",
              "      <td>\\neffects of simulated rocket jet exhaust on s...</td>\n",
              "      <td>\\nfetterman,d.e.\\n</td>\n",
              "      <td>\\nnasa tm.x127, 1959.\\n</td>\n",
              "      <td>\\neffects of simulated rocket jet exhaust on s...</td>\n",
              "    </tr>\n",
              "    <tr>\n",
              "      <th>1379</th>\n",
              "      <td>1380\\n</td>\n",
              "      <td>\\nthe problem of obtaining high lift-drag rati...</td>\n",
              "      <td>\\nclinton e. brown and francis e. mclean\\n</td>\n",
              "      <td>\\nlangley research center, nasa\\n</td>\n",
              "      <td>\\nthe problem of obtaining high lift-drag rati...</td>\n",
              "    </tr>\n",
              "  </tbody>\n",
              "</table>\n",
              "</div>"
            ],
            "text/plain": [
              "         item  ...                                           abstract\n",
              "708     709\\n  ...  \\nstatic longitudinal aerodynamic characterist...\n",
              "712     713\\n  ...  \\nstatic longitudinal stability characteristic...\n",
              "779     780\\n  ...  \\nthe transonic characteristics of 38 cambered...\n",
              "1291   1292\\n  ...  \\neffect of jet pluming on the static stabilit...\n",
              "1337   1338\\n  ...  \\ninvestigation to determine effects of center...\n",
              "1340   1341\\n  ...  \\ninvestigation of wing flutter at transonic s...\n",
              "1348   1349\\n  ...  \\neffects of simulated rocket jet exhaust on s...\n",
              "1379   1380\\n  ...  \\nthe problem of obtaining high lift-drag rati...\n",
              "\n",
              "[8 rows x 5 columns]"
            ]
          },
          "metadata": {
            "tags": []
          },
          "execution_count": 23
        }
      ]
    },
    {
      "cell_type": "markdown",
      "metadata": {
        "id": "gQpTGQ_yNPzn"
      },
      "source": [
        "### 2. Evaluate IR system"
      ]
    },
    {
      "cell_type": "markdown",
      "metadata": {
        "id": "bDWR2_8FbNE8"
      },
      "source": [
        "![image.png](data:image/png;base64,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)"
      ]
    },
    {
      "cell_type": "markdown",
      "metadata": {
        "id": "OAXqXdjAScO6"
      },
      "source": [
        "* Recall and Precision metric\n"
      ]
    },
    {
      "cell_type": "markdown",
      "metadata": {
        "id": "i69uOY0uiy1N"
      },
      "source": [
        "1.   Method 1\n",
        "\n",
        "\n",
        "\n",
        "\n"
      ]
    },
    {
      "cell_type": "code",
      "metadata": {
        "id": "9hxyE4YbR4Ag"
      },
      "source": [
        "metrics = []\n",
        "for i in range(1, 226):\n",
        "  similarity = cosine_similarity(matrix_docs, matrix_query[i - 1].reshape(1,-1))\n",
        "  item_retrieved = [i.rstrip(\"\\n\").lstrip(\" \") for i in df_documents.loc[np.where(similarity >= 0.5)[0]][\"item\"].to_list()]\n",
        "  relevant_items_in_collection = df_relevant[df_relevant[\"query_id\"] == i]\n",
        "  nb_of_relevant_items_in_collection = relevant_items_in_collection.count()[0]\n",
        "  nb_of_items_retrieved = len(item_retrieved)\n",
        "  nb_relevant_items_retrieved = 0\n",
        "  for j in item_retrieved:\n",
        "    if int(j) in relevant_items_in_collection['doc_id'].to_list():\n",
        "      nb_relevant_items_retrieved += 1\n",
        "  recall = nb_relevant_items_retrieved / nb_of_relevant_items_in_collection\n",
        "  precison = 0 if nb_of_items_retrieved == 0 else nb_relevant_items_retrieved / nb_of_items_retrieved\n",
        "  metrics.append([i, recall, precison])\n",
        "columns = [\"Items\", \"Recall\", \"Precison\"]\n",
        "df_metrics = pd.DataFrame(metrics,columns = columns)"
      ],
      "execution_count": null,
      "outputs": []
    },
    {
      "cell_type": "markdown",
      "metadata": {
        "id": "7G1i94nkjIv6"
      },
      "source": [
        "*   Method 2\n",
        "\n"
      ]
    },
    {
      "cell_type": "code",
      "metadata": {
        "id": "upllggh8ixQc"
      },
      "source": [
        "metrics = []\n",
        "for i in range(1, 226):\n",
        "  similarity = cosine_similarity(matrix_docs, matrix_query[i - 1].reshape(1,-1))\n",
        "  np.argsort(similarity.flatten())[1399:1369:-1]\n",
        "  item_retrieved = [i.rstrip(\"\\n\").lstrip(\" \") for i in df_documents.loc[np.argsort(similarity.flatten())[1399:1379:-1]][\"item\"].to_list()]\n",
        "  relevant_items_in_collection = df_relevant[df_relevant[\"query_id\"] == i]\n",
        "  nb_of_relevant_items_in_collection = relevant_items_in_collection.count()[0]\n",
        "  nb_of_items_retrieved = len(item_retrieved)\n",
        "  nb_relevant_items_retrieved = 0\n",
        "  for j in item_retrieved:\n",
        "    if int(j) in relevant_items_in_collection['doc_id'].to_list():\n",
        "      nb_relevant_items_retrieved += 1\n",
        "  recall = nb_relevant_items_retrieved / nb_of_relevant_items_in_collection\n",
        "  precison = 0 if nb_of_items_retrieved == 0 else nb_relevant_items_retrieved / nb_of_items_retrieved\n",
        "  metrics.append([i, recall, precison])\n",
        "columns = [\"Items\", \"Recall\", \"Precison\"]\n",
        "df_metrics = pd.DataFrame(metrics,columns = columns)"
      ],
      "execution_count": null,
      "outputs": []
    },
    {
      "cell_type": "code",
      "metadata": {
        "colab": {
          "base_uri": "https://localhost:8080/",
          "height": 407
        },
        "id": "QFfJJ2Z-LiYK",
        "outputId": "c59a764d-a537-40de-8577-b330a6ceba4e"
      },
      "source": [
        "df_metrics"
      ],
      "execution_count": null,
      "outputs": [
        {
          "output_type": "execute_result",
          "data": {
            "text/html": [
              "<div>\n",
              "<style scoped>\n",
              "    .dataframe tbody tr th:only-of-type {\n",
              "        vertical-align: middle;\n",
              "    }\n",
              "\n",
              "    .dataframe tbody tr th {\n",
              "        vertical-align: top;\n",
              "    }\n",
              "\n",
              "    .dataframe thead th {\n",
              "        text-align: right;\n",
              "    }\n",
              "</style>\n",
              "<table border=\"1\" class=\"dataframe\">\n",
              "  <thead>\n",
              "    <tr style=\"text-align: right;\">\n",
              "      <th></th>\n",
              "      <th>Items</th>\n",
              "      <th>Recall</th>\n",
              "      <th>Precison</th>\n",
              "    </tr>\n",
              "  </thead>\n",
              "  <tbody>\n",
              "    <tr>\n",
              "      <th>0</th>\n",
              "      <td>1</td>\n",
              "      <td>0.00</td>\n",
              "      <td>0.00</td>\n",
              "    </tr>\n",
              "    <tr>\n",
              "      <th>1</th>\n",
              "      <td>2</td>\n",
              "      <td>0.00</td>\n",
              "      <td>0.00</td>\n",
              "    </tr>\n",
              "    <tr>\n",
              "      <th>2</th>\n",
              "      <td>3</td>\n",
              "      <td>0.00</td>\n",
              "      <td>0.00</td>\n",
              "    </tr>\n",
              "    <tr>\n",
              "      <th>3</th>\n",
              "      <td>4</td>\n",
              "      <td>0.00</td>\n",
              "      <td>0.00</td>\n",
              "    </tr>\n",
              "    <tr>\n",
              "      <th>4</th>\n",
              "      <td>5</td>\n",
              "      <td>0.00</td>\n",
              "      <td>0.00</td>\n",
              "    </tr>\n",
              "    <tr>\n",
              "      <th>...</th>\n",
              "      <td>...</td>\n",
              "      <td>...</td>\n",
              "      <td>...</td>\n",
              "    </tr>\n",
              "    <tr>\n",
              "      <th>220</th>\n",
              "      <td>221</td>\n",
              "      <td>0.00</td>\n",
              "      <td>0.00</td>\n",
              "    </tr>\n",
              "    <tr>\n",
              "      <th>221</th>\n",
              "      <td>222</td>\n",
              "      <td>0.00</td>\n",
              "      <td>0.00</td>\n",
              "    </tr>\n",
              "    <tr>\n",
              "      <th>222</th>\n",
              "      <td>223</td>\n",
              "      <td>0.00</td>\n",
              "      <td>0.00</td>\n",
              "    </tr>\n",
              "    <tr>\n",
              "      <th>223</th>\n",
              "      <td>224</td>\n",
              "      <td>0.00</td>\n",
              "      <td>0.00</td>\n",
              "    </tr>\n",
              "    <tr>\n",
              "      <th>224</th>\n",
              "      <td>225</td>\n",
              "      <td>0.12</td>\n",
              "      <td>0.15</td>\n",
              "    </tr>\n",
              "  </tbody>\n",
              "</table>\n",
              "<p>225 rows × 3 columns</p>\n",
              "</div>"
            ],
            "text/plain": [
              "     Items  Recall  Precison\n",
              "0        1    0.00      0.00\n",
              "1        2    0.00      0.00\n",
              "2        3    0.00      0.00\n",
              "3        4    0.00      0.00\n",
              "4        5    0.00      0.00\n",
              "..     ...     ...       ...\n",
              "220    221    0.00      0.00\n",
              "221    222    0.00      0.00\n",
              "222    223    0.00      0.00\n",
              "223    224    0.00      0.00\n",
              "224    225    0.12      0.15\n",
              "\n",
              "[225 rows x 3 columns]"
            ]
          },
          "metadata": {
            "tags": []
          },
          "execution_count": 41
        }
      ]
    },
    {
      "cell_type": "code",
      "metadata": {
        "id": "B3HblyLTY2j3"
      },
      "source": [
        "#split_docs = []\n",
        "#for doc in docs:\n",
        "#  split_docs.append(doc.split())"
      ],
      "execution_count": null,
      "outputs": []
    },
    {
      "cell_type": "code",
      "metadata": {
        "id": "-n5ES953ZyZx"
      },
      "source": [
        "#for i in range(0,len(docs)):\n",
        "#  docs[i] = remove_stopwords(docs[i])\n",
        "#  docs[i] = strip_non_alphanum(docs[i])\n",
        "#  docs[i] = strip_multiple_whitespaces(docs[i])\n",
        "#  docs[i] = stem_text(docs[i])"
      ],
      "execution_count": null,
      "outputs": []
    },
    {
      "cell_type": "code",
      "metadata": {
        "id": "QATU98liEXEl"
      },
      "source": [
        "#x = np.argsort(similarity.flatten())\n",
        "#y = x[1399:1379:-1]\n",
        "#similarity[np.where(similarity > 0.975)]\n",
        "\n",
        "\n",
        "#split_Query = Query.split()"
      ],
      "execution_count": null,
      "outputs": []
    }
  ]
}