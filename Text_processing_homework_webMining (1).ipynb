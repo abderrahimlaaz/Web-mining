{
 "cells": [
  {
   "cell_type": "markdown",
   "metadata": {
    "id": "BlG5oRZXFatY"
   },
   "source": [
    "## **Import Library**"
   ]
  },
  {
   "cell_type": "code",
   "execution_count": null,
   "metadata": {
    "id": "FTFc6H7e97hv"
   },
   "outputs": [],
   "source": [
    "import nltk"
   ]
  },
  {
   "cell_type": "markdown",
   "metadata": {
    "id": "xxxS1BiXFZT-"
   },
   "source": [
    "## **Lowercase**"
   ]
  },
  {
   "cell_type": "code",
   "execution_count": 2,
   "metadata": {
    "colab": {
     "base_uri": "https://localhost:8080/"
    },
    "id": "FbZQYAfzEP6a",
    "outputId": "88232c47-0a77-448c-f1df-d170624cec36"
   },
   "outputs": [
    {
     "name": "stdout",
     "output_type": "stream",
     "text": [
      "the next preprocessing step is breaking up the units of text into individual words or tokens. this process \n",
      "         can take many forms, depending on the language being analyzed. for english, a straightforward and effective \n",
      "         tokenization strategy is to use white space and punctuation as token delimiters.\n"
     ]
    }
   ],
   "source": [
    "text = \"\"\"The next Preprocessing step is breaking up the units of text into individual words or tokens. This process \n",
    "         can take many forms, depending on the language being analyzed. For English, a straightforward and effective \n",
    "         tokenization strategy is to use white space and punctuation as token delimiters.\"\"\"\n",
    "text = text.lower()\n",
    "print(text)"
   ]
  },
  {
   "cell_type": "markdown",
   "metadata": {
    "id": "BJPGk_aFF3o9"
   },
   "source": [
    "## **Removing Punctuation**"
   ]
  },
  {
   "cell_type": "code",
   "execution_count": 3,
   "metadata": {
    "colab": {
     "base_uri": "https://localhost:8080/"
    },
    "id": "EznRu4KxEfPR",
    "outputId": "67abf91b-d1a6-499c-ab97-269c162b09a0"
   },
   "outputs": [
    {
     "name": "stdout",
     "output_type": "stream",
     "text": [
      "!\"#$%&'()*+,-./:;<=>?@[\\]^_`{|}~\n"
     ]
    }
   ],
   "source": [
    "import string\n",
    "print(string.punctuation)"
   ]
  },
  {
   "cell_type": "code",
   "execution_count": 6,
   "metadata": {
    "colab": {
     "base_uri": "https://localhost:8080/"
    },
    "id": "Yeoh1UW-94No",
    "outputId": "b30021b8-aa52-4457-989a-284074c2e82a"
   },
   "outputs": [
    {
     "name": "stdout",
     "output_type": "stream",
     "text": [
      "the next preprocessing step is breaking up the units of text into individual words or tokens this process \n",
      "         can take many forms depending on the language being analyzed for english a straightforward and effective \n",
      "         tokenization strategy is to use white space and punctuation as token delimiters\n"
     ]
    }
   ],
   "source": [
    "text_p = \"\".join([char for char in text if char not in string.punctuation])\n",
    "print(text_p)"
   ]
  },
  {
   "cell_type": "markdown",
   "metadata": {
    "id": "QdjoA0nNGCFq"
   },
   "source": [
    "## **Word Tokenization**"
   ]
  },
  {
   "cell_type": "code",
   "execution_count": null,
   "metadata": {
    "colab": {
     "base_uri": "https://localhost:8080/"
    },
    "id": "V2_adIyPErnf",
    "outputId": "a54b0b37-f1b1-43f0-d78f-65d8392cefec"
   },
   "outputs": [
    {
     "name": "stdout",
     "output_type": "stream",
     "text": [
      "[nltk_data] Downloading package punkt to /root/nltk_data...\n",
      "[nltk_data]   Unzipping tokenizers/punkt.zip.\n",
      "['the', 'next', 'preprocessing', 'step', 'is', 'breaking', 'up', 'the', 'units', 'of', 'text', 'into', 'individual', 'words', 'or', 'tokens', 'this', 'process', 'can', 'take', 'many', 'forms', 'depending', 'on', 'the', 'language', 'being', 'analyzed', 'for', 'english', 'a', 'straightforward', 'and', 'effective', 'tokenization', 'strategy', 'is', 'to', 'use', 'white', 'space', 'and', 'punctuation', 'as', 'token', 'delimiters']\n"
     ]
    }
   ],
   "source": [
    "from nltk import word_tokenize\n",
    "nltk.download('punkt')\n",
    "words = word_tokenize(text_p)\n",
    "print(words)"
   ]
  },
  {
   "cell_type": "markdown",
   "metadata": {
    "id": "_7TyrTNRGLLb"
   },
   "source": [
    "## **Stopword Filtering**"
   ]
  },
  {
   "cell_type": "code",
   "execution_count": null,
   "metadata": {
    "colab": {
     "base_uri": "https://localhost:8080/"
    },
    "id": "JOz5GYWRE--z",
    "outputId": "d0a96aca-f1fb-4f70-ed0b-6088e705c61e"
   },
   "outputs": [
    {
     "name": "stdout",
     "output_type": "stream",
     "text": [
      "[nltk_data] Downloading package stopwords to /root/nltk_data...\n",
      "[nltk_data]   Unzipping corpora/stopwords.zip.\n",
      "['i', 'me', 'my', 'myself', 'we', 'our', 'ours', 'ourselves', 'you', \"you're\", \"you've\", \"you'll\", \"you'd\", 'your', 'yours', 'yourself', 'yourselves', 'he', 'him', 'his', 'himself', 'she', \"she's\", 'her', 'hers', 'herself', 'it', \"it's\", 'its', 'itself', 'they', 'them', 'their', 'theirs', 'themselves', 'what', 'which', 'who', 'whom', 'this', 'that', \"that'll\", 'these', 'those', 'am', 'is', 'are', 'was', 'were', 'be', 'been', 'being', 'have', 'has', 'had', 'having', 'do', 'does', 'did', 'doing', 'a', 'an', 'the', 'and', 'but', 'if', 'or', 'because', 'as', 'until', 'while', 'of', 'at', 'by', 'for', 'with', 'about', 'against', 'between', 'into', 'through', 'during', 'before', 'after', 'above', 'below', 'to', 'from', 'up', 'down', 'in', 'out', 'on', 'off', 'over', 'under', 'again', 'further', 'then', 'once', 'here', 'there', 'when', 'where', 'why', 'how', 'all', 'any', 'both', 'each', 'few', 'more', 'most', 'other', 'some', 'such', 'no', 'nor', 'not', 'only', 'own', 'same', 'so', 'than', 'too', 'very', 's', 't', 'can', 'will', 'just', 'don', \"don't\", 'should', \"should've\", 'now', 'd', 'll', 'm', 'o', 're', 've', 'y', 'ain', 'aren', \"aren't\", 'couldn', \"couldn't\", 'didn', \"didn't\", 'doesn', \"doesn't\", 'hadn', \"hadn't\", 'hasn', \"hasn't\", 'haven', \"haven't\", 'isn', \"isn't\", 'ma', 'mightn', \"mightn't\", 'mustn', \"mustn't\", 'needn', \"needn't\", 'shan', \"shan't\", 'shouldn', \"shouldn't\", 'wasn', \"wasn't\", 'weren', \"weren't\", 'won', \"won't\", 'wouldn', \"wouldn't\"]\n"
     ]
    }
   ],
   "source": [
    "from nltk.corpus import stopwords\n",
    "nltk.download('stopwords')\n",
    "stop_words = stopwords.words('english')\n",
    "print(stop_words)"
   ]
  },
  {
   "cell_type": "code",
   "execution_count": null,
   "metadata": {
    "colab": {
     "base_uri": "https://localhost:8080/"
    },
    "id": "Eiz1BKVGFHln",
    "outputId": "47dd098f-35ba-4d8d-97cf-df960ff96edd"
   },
   "outputs": [
    {
     "name": "stdout",
     "output_type": "stream",
     "text": [
      "['next', 'preprocessing', 'step', 'breaking', 'units', 'text', 'individual', 'words', 'tokens', 'process', 'take', 'many', 'forms', 'depending', 'language', 'analyzed', 'english', 'straightforward', 'effective', 'tokenization', 'strategy', 'use', 'white', 'space', 'punctuation', 'token', 'delimiters']\n"
     ]
    }
   ],
   "source": [
    "filtered_words = [word for word in words if word not in stop_words]\n",
    "print(filtered_words)"
   ]
  },
  {
   "cell_type": "markdown",
   "metadata": {
    "id": "wm-A8wQCGTCE"
   },
   "source": [
    "## **Stemming**"
   ]
  },
  {
   "cell_type": "code",
   "execution_count": null,
   "metadata": {
    "colab": {
     "base_uri": "https://localhost:8080/"
    },
    "id": "QsbU_9xsFNA6",
    "outputId": "d2a401f3-3093-452e-f55a-0bfda09e06cb"
   },
   "outputs": [
    {
     "name": "stdout",
     "output_type": "stream",
     "text": [
      "['next', 'preprocess', 'step', 'break', 'unit', 'text', 'individu', 'word', 'token', 'process', 'take', 'mani', 'form', 'depend', 'languag', 'analyz', 'english', 'straightforward', 'effect', 'token', 'strategi', 'use', 'white', 'space', 'punctuat', 'token', 'delimit']\n"
     ]
    }
   ],
   "source": [
    "from nltk.stem.porter import PorterStemmer\n",
    "porter = PorterStemmer()\n",
    "stemmed = [porter.stem(word) for word in filtered_words]\n",
    "print(stemmed)"
   ]
  },
  {
   "cell_type": "markdown",
   "metadata": {
    "id": "_P7_Wij1GcuB"
   },
   "source": [
    "## **POS**"
   ]
  },
  {
   "cell_type": "code",
   "execution_count": null,
   "metadata": {
    "colab": {
     "base_uri": "https://localhost:8080/"
    },
    "id": "W4ABVGw3FRH8",
    "outputId": "7951aa19-3d56-4f86-e9a4-66a5458c29c6"
   },
   "outputs": [
    {
     "name": "stdout",
     "output_type": "stream",
     "text": [
      "[nltk_data] Downloading package averaged_perceptron_tagger to\n",
      "[nltk_data]     /root/nltk_data...\n",
      "[nltk_data]   Unzipping taggers/averaged_perceptron_tagger.zip.\n",
      "[('next', 'JJ'), ('preprocessing', 'VBG'), ('step', 'NN'), ('breaking', 'VBG'), ('units', 'NNS'), ('text', 'JJ'), ('individual', 'JJ'), ('words', 'NNS'), ('tokens', 'VBZ'), ('process', 'JJ'), ('take', 'VB'), ('many', 'JJ'), ('forms', 'NNS'), ('depending', 'VBG'), ('language', 'NN'), ('analyzed', 'VBD'), ('english', 'JJ'), ('straightforward', 'RB'), ('effective', 'JJ'), ('tokenization', 'NN'), ('strategy', 'NN'), ('use', 'IN'), ('white', 'JJ'), ('space', 'NN'), ('punctuation', 'NN'), ('token', 'NN'), ('delimiters', 'NNS')]\n"
     ]
    }
   ],
   "source": [
    "from nltk import pos_tag\n",
    "nltk.download('averaged_perceptron_tagger')\n",
    "pos = pos_tag(filtered_words)\n",
    "print(pos)"
   ]
  }
 ],
 "metadata": {
  "colab": {
   "name": "Text_processing_homework_webMining.ipynb",
   "provenance": []
  },
  "kernelspec": {
   "display_name": "Python 3",
   "language": "python",
   "name": "python3"
  },
  "language_info": {
   "codemirror_mode": {
    "name": "ipython",
    "version": 3
   },
   "file_extension": ".py",
   "mimetype": "text/x-python",
   "name": "python",
   "nbconvert_exporter": "python",
   "pygments_lexer": "ipython3",
   "version": "3.7.6"
  }
 },
 "nbformat": 4,
 "nbformat_minor": 1
}
